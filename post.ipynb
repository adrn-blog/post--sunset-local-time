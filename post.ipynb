{
 "cells": [
  {
   "cell_type": "markdown",
   "metadata": {},
   "source": [
    "tl;dr _I visualized the local time of sunset today (2018-01-27) at every county in the continental US to see how sunset time depends on latitude and location within timezone._\n",
    "\n",
    "---\n",
    "\n",
    "I'm currently traveling through the pacific northwest (PNW) and have been surprised that sunset occurs at about the same (local) time as it does out in Princeton, NJ (where I currently live), despite the ~5 degree difference in latitude. It occurred to me that the local time of sunset probably depends a lot on your relative position within a timezone (at least within the continental US), so I wanted to make some visualizations related to this.\n",
    "\n",
    "The machinery to do this in Python exists, but is spread out over a number of packages (listed below in the imports block). The code below takes a few minutes to run, and the bottleneck is the calculation used to estimate the time of sunset at each county's mean position (latitude and longitude)."
   ]
  },
  {
   "cell_type": "markdown",
   "metadata": {},
   "source": [
    "Some notes about installing the necessary packages:\n",
    "* I installed basemap with conda using: `conda install -c conda-forge basemap`\n",
    "* I installed the `geos` C library with homebrew with: `brew install geos`\n",
    "* I `pip` installed `tzwhere`, but everything else was installed with conda."
   ]
  },
  {
   "cell_type": "code",
   "execution_count": null,
   "metadata": {},
   "outputs": [],
   "source": [
    "# Standard library\n",
    "import datetime\n",
    "\n",
    "# Third-party\n",
    "import astropy.units as u\n",
    "import astropy.coordinates as coord\n",
    "from astropy.time import Time\n",
    "import numpy as np\n",
    "import pandas as pd\n",
    "import pytz\n",
    "import matplotlib as mpl\n",
    "import matplotlib.pyplot as plt\n",
    "\n",
    "%matplotlib inline\n",
    "from scipy.signal import argrelmin\n",
    "\n",
    "from mpl_toolkits.basemap import Basemap\n",
    "from matplotlib.patches import Polygon"
   ]
  },
  {
   "cell_type": "code",
   "execution_count": null,
   "metadata": {},
   "outputs": [],
   "source": [
    "from tzwhere import tzwhere\n",
    "\n",
    "tz = tzwhere.tzwhere(forceTZ=True)"
   ]
  },
  {
   "cell_type": "markdown",
   "metadata": {},
   "source": [
    "On top of the software installs above, I had to download a bunch of data from the US census bureau that contains the county shape specifications and other metadata https://www.census.gov/geo/maps-data/data/gazetteer2017.html: from this link, click \"Counties\", and download the full text file (only a few hundred kB). I saved this file locally as \"US-counties.txt\". I found that I had to manually go in and delete a weird character on the first line, but afterwards was able to read it with pandas:"
   ]
  },
  {
   "cell_type": "code",
   "execution_count": null,
   "metadata": {},
   "outputs": [],
   "source": [
    "county = pd.read_csv(\"../static/US-counties.txt\", delimiter=\"\\t\")\n",
    "len(county)"
   ]
  },
  {
   "cell_type": "markdown",
   "metadata": {},
   "source": [
    "For every county location (latitude and longitude), I use the `tzwhere` package to convert the (lat, lon) combo to a timezone name. For example, for New York:"
   ]
  },
  {
   "cell_type": "code",
   "execution_count": null,
   "metadata": {},
   "outputs": [],
   "source": [
    "tz.tzNameAt(40.713, -74.006)"
   ]
  },
  {
   "cell_type": "markdown",
   "metadata": {},
   "source": [
    "We now do the same, but iterate over the US counties file:"
   ]
  },
  {
   "cell_type": "code",
   "execution_count": null,
   "metadata": {},
   "outputs": [],
   "source": [
    "tzs = np.array(\n",
    "    [\n",
    "        pytz.timezone(tz.tzNameAt(r[\"INTPTLAT\"], r[\"INTPTLONG\"], forceTZ=True))\n",
    "        for i, r in county.iterrows()\n",
    "    ]\n",
    ")"
   ]
  },
  {
   "cell_type": "markdown",
   "metadata": {},
   "source": [
    "Let's look at a random entry in this array:"
   ]
  },
  {
   "cell_type": "code",
   "execution_count": null,
   "metadata": {},
   "outputs": [],
   "source": [
    "tzs[867]"
   ]
  },
  {
   "cell_type": "markdown",
   "metadata": {},
   "source": [
    "From the (lat, lon) coordinates of each county center, I now create an array-valued [`EarthLocation`](http://docs.astropy.org/en/latest/api/astropy.coordinates.EarthLocation.html) object, which I'll later use to get the Sun's local altitude at each position and a grid of times:"
   ]
  },
  {
   "cell_type": "code",
   "execution_count": null,
   "metadata": {},
   "outputs": [],
   "source": [
    "county_locs = coord.EarthLocation(\n",
    "    lon=county[\"INTPTLONG\"] * u.deg, lat=county[\"INTPTLAT\"] * u.deg\n",
    ")"
   ]
  },
  {
   "cell_type": "markdown",
   "metadata": {},
   "source": [
    "Now we'll define a function that will do the majority of the computation: compute the local time of sunset at the specified locations and on the specified day:"
   ]
  },
  {
   "cell_type": "code",
   "execution_count": null,
   "metadata": {},
   "outputs": [],
   "source": [
    "day = Time(\"2018-01-27\")"
   ]
  },
  {
   "cell_type": "code",
   "execution_count": null,
   "metadata": {},
   "outputs": [],
   "source": [
    "def sunset_time(locs, time, n_time=256):\n",
    "    \"\"\"Estimate the local time of sunset at the specified locations\n",
    "    on the specified date.\n",
    "\n",
    "    Parameters\n",
    "    ----------\n",
    "    locs : `astropy.coordinates.EarthLocation`\n",
    "        The positions to compute sunset at.\n",
    "    time : `astropy.time.Time`\n",
    "        The UTC day to compute sunset on.\n",
    "    n_time : int (optional)\n",
    "        The number of time grid points to use to estimate sunset.\n",
    "    \"\"\"\n",
    "    # UTC timezone used below to convert to local time\n",
    "    utc = pytz.timezone(\"UTC\")\n",
    "\n",
    "    # Generate a grid of times to use to search for sunset:\n",
    "    time_grid = time + np.linspace(0, 24, n_time) * u.hour\n",
    "\n",
    "    # Get the Sun's position at all of the (UTC) times:\n",
    "    sun = coord.get_sun(time_grid[:, None])\n",
    "\n",
    "    # Create a 2D grid of AltAz frames given the locations\n",
    "    # and times, then compute the Sun's local altitude and azimuth\n",
    "    # at each of those frames:\n",
    "    altaz_frame = coord.AltAz(location=locs[None], obstime=time_grid[:, None])\n",
    "    sun_altaz = sun.transform_to(altaz_frame)\n",
    "\n",
    "    # Find the indices of all minima in the sun altitude^2 -- there\n",
    "    # should be 2: close to sunset, and close to sunrise:\n",
    "    min_idx = np.array(\n",
    "        [argrelmin(a**2, axis=0, mode=\"wrap\")[0] for a in sun_altaz.alt.degree.T]\n",
    "    )\n",
    "\n",
    "    # Now, figure out which of the two sun altitude minima is sunset\n",
    "    # by computing the derivative of altitude w.r.t. time:\n",
    "    sunset_idx = []\n",
    "    good_i = []\n",
    "    for i, idx in enumerate(min_idx):\n",
    "        alt = sun_altaz.alt.degree\n",
    "        try:\n",
    "            sunset_idx.append(\n",
    "                idx[\n",
    "                    np.array(\n",
    "                        [\n",
    "                            alt[min(j + 1, len(alt) - 1), i] - alt[max(j - 1, 0), i]\n",
    "                            for j in idx\n",
    "                        ]\n",
    "                    )\n",
    "                    < 0\n",
    "                ][0]\n",
    "            )\n",
    "            good_i.append(i)\n",
    "        except IndexError:\n",
    "            continue\n",
    "\n",
    "    sunset_idx = np.array(sunset_idx)\n",
    "    good_i = np.array(good_i)\n",
    "\n",
    "    # Convert the UTC sunset time estimates to local times. Here we\n",
    "    # assume that the time sampling is dense enough that the time of\n",
    "    # min(alt**2) is close enough to the actual sunset:\n",
    "    sun_time = sun_altaz.obstime.datetime\n",
    "    sunsets = np.array(\n",
    "        [\n",
    "            utc.localize(sun_time[j, i]).astimezone(tzs[i])\n",
    "            for i, j in zip(good_i, sunset_idx)\n",
    "        ]\n",
    "    )\n",
    "\n",
    "    return good_i, sunsets"
   ]
  },
  {
   "cell_type": "code",
   "execution_count": null,
   "metadata": {},
   "outputs": [],
   "source": [
    "%%time\n",
    "good_i, sunsets = sunset_time(county_locs, day, n_time=512)"
   ]
  },
  {
   "cell_type": "markdown",
   "metadata": {},
   "source": [
    "The times we get back are an array of python datetime objects, but we only care about local (decimal) time. Here we convert the datetime objects to decimal hours:"
   ]
  },
  {
   "cell_type": "code",
   "execution_count": null,
   "metadata": {},
   "outputs": [],
   "source": [
    "sunset_hours = np.array([s.hour + s.minute / 60 + s.second / 3600 for s in sunsets])"
   ]
  },
  {
   "cell_type": "markdown",
   "metadata": {},
   "source": [
    "Before using `basemap` to plot the counties as polygons, let's just make sure we're on the right track by plotting the county centroids, colored by sunset time:"
   ]
  },
  {
   "cell_type": "code",
   "execution_count": null,
   "metadata": {},
   "outputs": [],
   "source": [
    "fig, ax = plt.subplots(1, 1, figsize=(6, 4))\n",
    "ax.scatter(\n",
    "    county_locs[good_i].lon.degree,\n",
    "    county_locs[good_i].lat.degree,\n",
    "    marker=\".\",\n",
    "    c=sunset_hours,\n",
    "    vmin=16.5,\n",
    "    vmax=18.5,\n",
    ")\n",
    "ax.set_xlim(-125, -65)\n",
    "ax.set_ylim(25, 55)"
   ]
  },
  {
   "cell_type": "markdown",
   "metadata": {},
   "source": [
    "Now we can make a plot of the counties, drawn as polygons, colored by the time of sunset. We need to specify the edges of the plot (in latitude and longitude) and the central point so `basemap` can compute the projection for us:"
   ]
  },
  {
   "cell_type": "code",
   "execution_count": null,
   "metadata": {},
   "outputs": [],
   "source": [
    "# Set the lower left and upper right limits of the bounding box of\n",
    "# the US county map plot:\n",
    "lon_lim = (-119, -63)\n",
    "lat_lim = (22.0, 50.5)\n",
    "\n",
    "# calculate the centerpoint, needed for the projection:\n",
    "center_lon = 0.5 * np.sum(lon_lim)\n",
    "center_lat = 0.5 * np.sum(lat_lim)"
   ]
  },
  {
   "cell_type": "markdown",
   "metadata": {},
   "source": [
    "For our county map, we'll use a diverging colormap to show differences in the time of sunset from the median time of sunset (rounded to the nearest half hour):"
   ]
  },
  {
   "cell_type": "code",
   "execution_count": null,
   "metadata": {},
   "outputs": [],
   "source": [
    "cmap = plt.get_cmap(\"RdBu\")\n",
    "\n",
    "med_hour = 0.5 * np.round(np.median(sunset_hours) / 0.5)\n",
    "print(\"median sunset (local) time: {0}\".format(med_hour))\n",
    "\n",
    "norm = mpl.colors.Normalize(vmin=med_hour - 1, vmax=med_hour + 1)"
   ]
  },
  {
   "cell_type": "code",
   "execution_count": null,
   "metadata": {},
   "outputs": [],
   "source": [
    "fig, ax = plt.subplots(1, 1, figsize=(12, 8))\n",
    "\n",
    "ax.set_title(\"Date: {0}\".format(day.datetime.strftime(\"%Y-%m-%d\")))\n",
    "\n",
    "m = Basemap(\n",
    "    resolution=\"l\",  # crude, low, intermediate, high, full\n",
    "    llcrnrlon=lon_lim[0],\n",
    "    urcrnrlon=lon_lim[1],\n",
    "    lon_0=center_lon,\n",
    "    llcrnrlat=lat_lim[0],\n",
    "    urcrnrlat=lat_lim[1],\n",
    "    lat_0=center_lat,\n",
    "    projection=\"tmerc\",\n",
    "    ax=ax,\n",
    ")\n",
    "\n",
    "# Read county boundaries\n",
    "shp_info = m.readshapefile(\n",
    "    \"../static/basemap-shapes/st99_d00\",\n",
    "    \"counties\",\n",
    "    drawbounds=True,\n",
    "    color=\"#aaaaaa\",\n",
    "    linewidth=0.5,\n",
    ")\n",
    "\n",
    "shp_info = m.readshapefile(\n",
    "    \"../static/basemap-shapes/cb_2015_us_county_500k\", \"counties\", drawbounds=False\n",
    ")\n",
    "\n",
    "for i, info in enumerate(m.counties_info):\n",
    "    match_idx = np.where(county[\"GEOID\"][good_i] == int(info[\"GEOID\"]))[0]\n",
    "    if match_idx in good_i:\n",
    "        poly = Polygon(m.counties[i], facecolor=cmap(norm(sunset_hours[match_idx][0])))\n",
    "        ax.add_patch(poly)\n",
    "\n",
    "ax1 = fig.add_axes([0.92, 0.1, 0.03, 0.8])  # l, b, w, h\n",
    "cb1 = mpl.colorbar.ColorbarBase(ax1, cmap=cmap, norm=norm)\n",
    "cb1.set_label(\"local time of sunset\")\n",
    "\n",
    "cb_ticks = np.arange(med_hour - 1, med_hour + 1 + 0.1, 0.5)\n",
    "cb_labels = [\n",
    "    datetime.time(int(x), int(60 * (x - np.floor(x)))).strftime(\"%H:%M\")\n",
    "    for x in cb_ticks\n",
    "]\n",
    "cb1.set_ticks(cb_ticks)\n",
    "cb1.set_ticklabels(cb_labels)\n",
    "\n",
    "fig.subplots_adjust(0.1, 0.05, 0.9, 0.95)  # l, b, r, t"
   ]
  },
  {
   "cell_type": "markdown",
   "metadata": {},
   "source": [
    "Northwestern Washington and central New Jersey are both light red! From this map, it's clear that location within a timezone is a much stronger indicator of sunset time compared to the latitude dependence of the sunset.\n",
    "\n",
    "Let's now turn the above into a single function call that produces the county map given a date:"
   ]
  },
  {
   "cell_type": "code",
   "execution_count": null,
   "metadata": {},
   "outputs": [],
   "source": [
    "def plot_sunset_map(day, cmap=\"RdBu\"):\n",
    "    \"\"\"Plot a map of the continental US and color each county by the local\n",
    "    time of sunset on the specified day.\n",
    "\n",
    "    Parameters\n",
    "    ----------\n",
    "    day : `astropy.time.Time`\n",
    "        The day to compute sunset on.\n",
    "    \"\"\"\n",
    "    good_i, sunsets = sunset_time(county_locs, day, n_time=512)\n",
    "\n",
    "    sunset_hours = np.array([s.hour + s.minute / 60 + s.second / 3600 for s in sunsets])\n",
    "\n",
    "    # Set the lower left and upper right limits of the bounding box of\n",
    "    # the US county map plot:\n",
    "    lon_lim = (-119, -63)\n",
    "    lat_lim = (22.0, 50.5)\n",
    "\n",
    "    # calculate the centerpoint, needed for the projection:\n",
    "    center_lon = 0.5 * np.sum(lon_lim)\n",
    "    center_lat = 0.5 * np.sum(lat_lim)\n",
    "\n",
    "    cmap = plt.get_cmap(cmap)\n",
    "    med_hour = 0.5 * np.round(np.median(sunset_hours) / 0.5)\n",
    "    norm = mpl.colors.Normalize(vmin=med_hour - 1, vmax=med_hour + 1)\n",
    "\n",
    "    fig, ax = plt.subplots(1, 1, figsize=(12, 8))\n",
    "\n",
    "    ax.set_title(\"Date: {0}\".format(day.datetime.strftime(\"%Y-%m-%d\")))\n",
    "\n",
    "    m = Basemap(\n",
    "        resolution=\"l\",  # crude, low, intermediate, high, full\n",
    "        llcrnrlon=lon_lim[0],\n",
    "        urcrnrlon=lon_lim[1],\n",
    "        lon_0=center_lon,\n",
    "        llcrnrlat=lat_lim[0],\n",
    "        urcrnrlat=lat_lim[1],\n",
    "        lat_0=center_lat,\n",
    "        projection=\"tmerc\",\n",
    "        ax=ax,\n",
    "    )\n",
    "\n",
    "    # Read county boundaries\n",
    "    shp_info = m.readshapefile(\n",
    "        \"../static/basemap-shapes/st99_d00\",\n",
    "        \"counties\",\n",
    "        drawbounds=True,\n",
    "        color=\"#aaaaaa\",\n",
    "        linewidth=0.5,\n",
    "    )\n",
    "\n",
    "    shp_info = m.readshapefile(\n",
    "        \"../static/basemap-shapes/cb_2015_us_county_500k\", \"counties\", drawbounds=False\n",
    "    )\n",
    "\n",
    "    for i, info in enumerate(m.counties_info):\n",
    "        match_idx = np.where(county[\"GEOID\"][good_i] == int(info[\"GEOID\"]))[0]\n",
    "        if match_idx in good_i:\n",
    "            poly = Polygon(\n",
    "                m.counties[i], facecolor=cmap(norm(sunset_hours[match_idx][0]))\n",
    "            )\n",
    "            ax.add_patch(poly)\n",
    "\n",
    "    ax1 = fig.add_axes([0.92, 0.1, 0.03, 0.8])  # l, b, w, h\n",
    "    cb1 = mpl.colorbar.ColorbarBase(ax1, cmap=cmap, norm=norm)\n",
    "    cb1.set_label(\"local time of sunset\")\n",
    "\n",
    "    cb_ticks = np.arange(med_hour - 1, med_hour + 1 + 0.1, 0.5)\n",
    "    cb_labels = [\n",
    "        datetime.time(int(x), int(60 * (x - np.floor(x)))).strftime(\"%H:%M\")\n",
    "        for x in cb_ticks\n",
    "    ]\n",
    "    cb1.set_ticks(cb_ticks)\n",
    "    cb1.set_ticklabels(cb_labels)\n",
    "\n",
    "    fig.subplots_adjust(0.1, 0.05, 0.9, 0.95)  # l, b, r, t\n",
    "\n",
    "    return fig"
   ]
  },
  {
   "cell_type": "code",
   "execution_count": null,
   "metadata": {},
   "outputs": [],
   "source": [
    "fig = plot_sunset_map(Time(\"2018-06-21\"))"
   ]
  },
  {
   "cell_type": "code",
   "execution_count": null,
   "metadata": {},
   "outputs": [],
   "source": [
    "fig = plot_sunset_map(Time(\"2018-12-21\"))"
   ]
  }
 ],
 "metadata": {},
 "nbformat": 4,
 "nbformat_minor": 2
}
